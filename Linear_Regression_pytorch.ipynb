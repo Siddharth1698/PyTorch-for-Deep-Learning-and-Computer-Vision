{
  "nbformat": 4,
  "nbformat_minor": 0,
  "metadata": {
    "colab": {
      "name": "Linear Regression - pytorch.ipynb",
      "provenance": [],
      "collapsed_sections": []
    },
    "kernelspec": {
      "name": "python3",
      "display_name": "Python 3"
    },
    "language_info": {
      "name": "python"
    }
  },
  "cells": [
    {
      "cell_type": "code",
      "metadata": {
        "id": "fiqC187RcaAH"
      },
      "source": [
        "import torch"
      ],
      "execution_count": 1,
      "outputs": []
    },
    {
      "cell_type": "code",
      "metadata": {
        "id": "tGM0il6Gc4KR"
      },
      "source": [
        "w = torch.tensor(3.0, requires_grad=True)\n",
        "b = torch.tensor(1.0, requires_grad=True)"
      ],
      "execution_count": null,
      "outputs": []
    },
    {
      "cell_type": "code",
      "metadata": {
        "id": "CtscrhKCdVk5"
      },
      "source": [
        "def forward(x):\n",
        "  y = w * x + b\n",
        "  return y"
      ],
      "execution_count": null,
      "outputs": []
    },
    {
      "cell_type": "code",
      "metadata": {
        "colab": {
          "base_uri": "https://localhost:8080/"
        },
        "id": "XQ36URQaddDq",
        "outputId": "932a6876-425a-4147-b5b9-44fa87f15950"
      },
      "source": [
        "x = torch.tensor(2)\n",
        "forward(x)"
      ],
      "execution_count": null,
      "outputs": [
        {
          "output_type": "execute_result",
          "data": {
            "text/plain": [
              "tensor(7., grad_fn=<AddBackward0>)"
            ]
          },
          "metadata": {
            "tags": []
          },
          "execution_count": 4
        }
      ]
    },
    {
      "cell_type": "code",
      "metadata": {
        "colab": {
          "base_uri": "https://localhost:8080/"
        },
        "id": "jni7HgCndi-W",
        "outputId": "846a0707-27ad-4ee6-e665-93cafb1b1202"
      },
      "source": [
        "x = torch.tensor([[4],[7]])\n",
        "forward(x)"
      ],
      "execution_count": null,
      "outputs": [
        {
          "output_type": "execute_result",
          "data": {
            "text/plain": [
              "tensor([[13.],\n",
              "        [22.]], grad_fn=<AddBackward0>)"
            ]
          },
          "metadata": {
            "tags": []
          },
          "execution_count": 5
        }
      ]
    },
    {
      "cell_type": "markdown",
      "metadata": {
        "id": "epjP3DmZe1Fj"
      },
      "source": [
        "## Linear Class"
      ]
    },
    {
      "cell_type": "code",
      "metadata": {
        "id": "iP6qeLWrdpqK"
      },
      "source": [
        "from torch.nn import Linear"
      ],
      "execution_count": null,
      "outputs": []
    },
    {
      "cell_type": "code",
      "metadata": {
        "id": "_G2SYCFAe9JH"
      },
      "source": [
        "torch.manual_seed(1)  # generating random value are consistent.\n",
        "model = Linear(in_features=1,out_features=1) # every prediction we make for our linear model, for an output there is a single input."
      ],
      "execution_count": null,
      "outputs": []
    },
    {
      "cell_type": "code",
      "metadata": {
        "colab": {
          "base_uri": "https://localhost:8080/"
        },
        "id": "DirWCosUfKZW",
        "outputId": "b8d4d8b1-6689-4498-87a8-34037ba7b0e9"
      },
      "source": [
        "model.bias"
      ],
      "execution_count": null,
      "outputs": [
        {
          "output_type": "execute_result",
          "data": {
            "text/plain": [
              "Parameter containing:\n",
              "tensor([-0.4414], requires_grad=True)"
            ]
          },
          "metadata": {
            "tags": []
          },
          "execution_count": 8
        }
      ]
    },
    {
      "cell_type": "code",
      "metadata": {
        "colab": {
          "base_uri": "https://localhost:8080/"
        },
        "id": "0lz6D-rhfslq",
        "outputId": "13dbb1f1-4abe-48c8-91f4-929502fe435a"
      },
      "source": [
        "model.weight"
      ],
      "execution_count": null,
      "outputs": [
        {
          "output_type": "execute_result",
          "data": {
            "text/plain": [
              "Parameter containing:\n",
              "tensor([[0.5153]], requires_grad=True)"
            ]
          },
          "metadata": {
            "tags": []
          },
          "execution_count": 9
        }
      ]
    },
    {
      "cell_type": "code",
      "metadata": {
        "colab": {
          "base_uri": "https://localhost:8080/"
        },
        "id": "qJ-QlSzCftyG",
        "outputId": "e24fa357-aaed-415a-8f3b-42809b48be0d"
      },
      "source": [
        "x = torch.tensor([2.0])\n",
        "model(x)"
      ],
      "execution_count": null,
      "outputs": [
        {
          "output_type": "execute_result",
          "data": {
            "text/plain": [
              "tensor([0.5891], grad_fn=<AddBackward0>)"
            ]
          },
          "metadata": {
            "tags": []
          },
          "execution_count": 10
        }
      ]
    },
    {
      "cell_type": "code",
      "metadata": {
        "colab": {
          "base_uri": "https://localhost:8080/"
        },
        "id": "SLfdu8s3f-yW",
        "outputId": "d24a0187-f117-4087-b991-23160acec9f5"
      },
      "source": [
        "x = torch.tensor([[2.0],[3.3]])\n",
        "model(x)"
      ],
      "execution_count": null,
      "outputs": [
        {
          "output_type": "execute_result",
          "data": {
            "text/plain": [
              "tensor([[0.5891],\n",
              "        [1.2590]], grad_fn=<AddmmBackward>)"
            ]
          },
          "metadata": {
            "tags": []
          },
          "execution_count": 11
        }
      ]
    },
    {
      "cell_type": "markdown",
      "metadata": {
        "id": "oiXAIGQtjKWY"
      },
      "source": [
        "## Custom Modules"
      ]
    },
    {
      "cell_type": "code",
      "metadata": {
        "id": "NZCrWYT5jygE"
      },
      "source": [
        "import torch.nn as nn"
      ],
      "execution_count": null,
      "outputs": []
    },
    {
      "cell_type": "code",
      "metadata": {
        "id": "6UjnalxNgHfS"
      },
      "source": [
        "class LR(nn.Module):\n",
        "  def __init__(self,input_size,output_size):\n",
        "    super().__init__()\n",
        "    self.linear = nn.Linear(input_size,output_size)\n",
        "\n",
        "  def forward(self,x):\n",
        "    pred = self.linear(x)\n",
        "    return pred\n"
      ],
      "execution_count": null,
      "outputs": []
    },
    {
      "cell_type": "code",
      "metadata": {
        "id": "87KqtyM8lXlU"
      },
      "source": [
        "model = LR(1,1)"
      ],
      "execution_count": null,
      "outputs": []
    },
    {
      "cell_type": "code",
      "metadata": {
        "colab": {
          "base_uri": "https://localhost:8080/"
        },
        "id": "jWslN1uxlgPt",
        "outputId": "31f909ac-36e5-4c1f-92c6-52b8ccd30bf2"
      },
      "source": [
        "list(model.parameters())"
      ],
      "execution_count": null,
      "outputs": [
        {
          "output_type": "execute_result",
          "data": {
            "text/plain": [
              "[Parameter containing:\n",
              " tensor([[-0.1939]], requires_grad=True), Parameter containing:\n",
              " tensor([0.4694], requires_grad=True)]"
            ]
          },
          "metadata": {
            "tags": []
          },
          "execution_count": 15
        }
      ]
    },
    {
      "cell_type": "code",
      "metadata": {
        "colab": {
          "base_uri": "https://localhost:8080/"
        },
        "id": "j-ZUuMKckQ1V",
        "outputId": "8cbc966e-4a8f-44da-b64c-2978dfc58334"
      },
      "source": [
        "x = torch.tensor([[1.0],[2.0]])\n",
        "model.forward(x)"
      ],
      "execution_count": null,
      "outputs": [
        {
          "output_type": "execute_result",
          "data": {
            "text/plain": [
              "tensor([[0.2755],\n",
              "        [0.0816]], grad_fn=<AddmmBackward>)"
            ]
          },
          "metadata": {
            "tags": []
          },
          "execution_count": 16
        }
      ]
    },
    {
      "cell_type": "markdown",
      "metadata": {
        "id": "AILJE4APmvSC"
      },
      "source": [
        "## Creating Dataset"
      ]
    },
    {
      "cell_type": "code",
      "metadata": {
        "id": "t4HGg__ClMEf"
      },
      "source": [
        "import matplotlib.pyplot as plt\n",
        "import numpy as np"
      ],
      "execution_count": null,
      "outputs": []
    },
    {
      "cell_type": "code",
      "metadata": {
        "colab": {
          "base_uri": "https://localhost:8080/",
          "height": 296
        },
        "id": "OVmExJNRmyOa",
        "outputId": "f3054204-a4e0-4688-83cf-b5e284426196"
      },
      "source": [
        "X = torch.randn(100, 1)*10\n",
        "y = X + 3*torch.randn(100, 1)\n",
        "plt.plot(X.numpy(), y.numpy(), 'o')\n",
        "plt.ylabel('y')\n",
        "plt.xlabel('x')"
      ],
      "execution_count": null,
      "outputs": [
        {
          "output_type": "execute_result",
          "data": {
            "text/plain": [
              "Text(0.5, 0, 'x')"
            ]
          },
          "metadata": {
            "tags": []
          },
          "execution_count": 18
        },
        {
          "output_type": "display_data",
          "data": {
            "image/png": "[encoded data removed]",
            "text/plain": [
              "<Figure size 432x288 with 1 Axes>"
            ]
          },
          "metadata": {
            "tags": [],
            "needs_background": "light"
          }
        }
      ]
    },
    {
      "cell_type": "code",
      "metadata": {
        "id": "j6nWSlWQm01F"
      },
      "source": [
        "[w, b] = model.parameters()\n",
        "def get_params():\n",
        "  return (w[0][0].item(), b[0].item())"
      ],
      "execution_count": null,
      "outputs": []
    },
    {
      "cell_type": "code",
      "metadata": {
        "id": "sZIm15TdnBup"
      },
      "source": [
        "def plot_fit(title):\n",
        "  plt.title = title\n",
        "  w1, b1 = get_params()\n",
        "  x1 = np.array([-30, 30])\n",
        "  y1 = w1*x1 + b1\n",
        "  plt.plot(x1, y1, 'r')\n",
        "  plt.scatter(X, y)\n",
        "  plt.show()"
      ],
      "execution_count": null,
      "outputs": []
    },
    {
      "cell_type": "code",
      "metadata": {
        "colab": {
          "base_uri": "https://localhost:8080/",
          "height": 265
        },
        "id": "mO7ZZ1C6nOFS",
        "outputId": "46853730-b004-49a8-b86f-e87d4e81d6fd"
      },
      "source": [
        "plot_fit('Initial Model')"
      ],
      "execution_count": null,
      "outputs": [
        {
          "output_type": "display_data",
          "data": {
            "image/png": "[encoded data removed]",
            "text/plain": [
              "<Figure size 432x288 with 1 Axes>"
            ]
          },
          "metadata": {
            "tags": [],
            "needs_background": "light"
          }
        }
      ]
    },
    {
      "cell_type": "markdown",
      "metadata": {
        "id": "pdRb8FnyndfQ"
      },
      "source": [
        "## Implementation"
      ]
    },
    {
      "cell_type": "code",
      "metadata": {
        "id": "CEUoKJcunUbH"
      },
      "source": [
        "## loss fn => (y - wx)^2 \n",
        "## error => y - y_hat => y - (wx+b)) , we initially take b = 0."
      ],
      "execution_count": 1,
      "outputs": []
    },
    {
      "cell_type": "code",
      "metadata": {
        "id": "-jGyl1CboZpI"
      },
      "source": [
        "## so gradient is best way to find the lowest error. We can take derivative and move in the negetive direction to reach 0. => w1 = w0 - f'(w)\n",
        "## the speed in which we move down is governed by the learning rate. Start small."
      ],
      "execution_count": 2,
      "outputs": []
    },
    {
      "cell_type": "code",
      "metadata": {
        "id": "hWeiE7eNv7X_"
      },
      "source": [
        "import torch\n",
        "import torch.nn as nn\n",
        "import matplotlib.pyplot as plt\n",
        "import numpy as np"
      ],
      "execution_count": 3,
      "outputs": []
    },
    {
      "cell_type": "code",
      "metadata": {
        "id": "2N4AdMs1v8t_",
        "colab": {
          "base_uri": "https://localhost:8080/",
          "height": 296
        },
        "outputId": "4b629751-609d-4c7b-9ef0-464cee9298b2"
      },
      "source": [
        "X = torch.randn(100, 1)*10\n",
        "y = X + 3*torch.randn(100, 1)\n",
        "plt.plot(X.numpy(), y.numpy(), 'o')\n",
        "plt.ylabel('y')\n",
        "plt.xlabel('x')"
      ],
      "execution_count": 4,
      "outputs": [
        {
          "output_type": "execute_result",
          "data": {
            "text/plain": [
              "Text(0.5, 0, 'x')"
            ]
          },
          "metadata": {
            "tags": []
          },
          "execution_count": 4
        },
        {
          "output_type": "display_data",
          "data": {
            "image/png": "[encoded data removed]",
            "text/plain": [
              "<Figure size 432x288 with 1 Axes>"
            ]
          },
          "metadata": {
            "tags": [],
            "needs_background": "light"
          }
        }
      ]
    },
    {
      "cell_type": "code",
      "metadata": {
        "id": "fxEeoNPlv-MF"
      },
      "source": [
        "class LR(nn.Module):\n",
        "  def __init__(self, input_size, output_size):\n",
        "    super().__init__()\n",
        "    self.linear = nn.Linear(input_size, output_size)\n",
        "  def forward(self, x):\n",
        "    pred = self.linear(x)\n",
        "    return pred"
      ],
      "execution_count": 5,
      "outputs": []
    },
    {
      "cell_type": "code",
      "metadata": {
        "id": "b5Bh8OYNv_5S",
        "colab": {
          "base_uri": "https://localhost:8080/"
        },
        "outputId": "20d8611d-0c01-47e9-87a9-f0faf45f8cb6"
      },
      "source": [
        "\n",
        "torch.manual_seed(1)\n",
        "model = LR(1, 1)\n",
        "print(model)"
      ],
      "execution_count": 6,
      "outputs": [
        {
          "output_type": "stream",
          "text": [
            "LR(\n",
            "  (linear): Linear(in_features=1, out_features=1, bias=True)\n",
            ")\n"
          ],
          "name": "stdout"
        }
      ]
    },
    {
      "cell_type": "code",
      "metadata": {
        "id": "1UhucNYTwBsh"
      },
      "source": [
        "[w, b] = model.parameters()\n",
        "def get_params():\n",
        "  return (w[0][0].item(), b[0].item())"
      ],
      "execution_count": 7,
      "outputs": []
    },
    {
      "cell_type": "code",
      "metadata": {
        "id": "hoBeqWldwDFa"
      },
      "source": [
        "def plot_fit(title):\n",
        "  plt.title = title\n",
        "  w1, b1 = get_params()\n",
        "  x1 = np.array([-30, 30])\n",
        "  y1 = w1*x1 + b1\n",
        "  plt.plot(x1, y1, 'r')\n",
        "  plt.scatter(X, y)\n",
        "  plt.show()"
      ],
      "execution_count": 8,
      "outputs": []
    },
    {
      "cell_type": "code",
      "metadata": {
        "id": "oXzbFtWiwEoF",
        "colab": {
          "base_uri": "https://localhost:8080/",
          "height": 265
        },
        "outputId": "16e8c8e6-d3d6-4cf9-d412-50b730d62ae1"
      },
      "source": [
        "\n",
        "plot_fit('Initial Model')"
      ],
      "execution_count": 9,
      "outputs": [
        {
          "output_type": "display_data",
          "data": {
            "image/png": "[encoded data removed]",
            "text/plain": [
              "<Figure size 432x288 with 1 Axes>"
            ]
          },
          "metadata": {
            "tags": [],
            "needs_background": "light"
          }
        }
      ]
    },
    {
      "cell_type": "code",
      "metadata": {
        "id": "goxiRFOywGLi"
      },
      "source": [
        "criterion = nn.MSELoss()\n",
        "optimizer = torch.optim.SGD(model.parameters(), lr = 0.001)"
      ],
      "execution_count": 10,
      "outputs": []
    },
    {
      "cell_type": "code",
      "metadata": {
        "id": "PEyDx8VCwH31",
        "colab": {
          "base_uri": "https://localhost:8080/"
        },
        "outputId": "9a928fde-c81a-49f6-a837-13c8fe6a81c4"
      },
      "source": [
        "\n",
        "epochs = 100  # if we only use 1 epoch, then it will be underfitting of data and too many can lead to overfitting.\n",
        "losses = []\n",
        "for i in range(epochs):\n",
        "  y_pred = model.forward(X)\n",
        "  loss = criterion(y_pred, y)\n",
        "  print(\"epoch:\", i, \"loss:\", loss.item())\n",
        "  \n",
        "  losses.append(loss)\n",
        "  optimizer.zero_grad()  # initialize gradient to zero.\n",
        "  loss.backward()  # derivative is computed this way.\n",
        "  optimizer.step()  # called once gradient is computed with .backward method. -> update model parameters."
      ],
      "execution_count": 11,
      "outputs": [
        {
          "output_type": "stream",
          "text": [
            "epoch: 0 loss: 35.84452438354492\n",
            "epoch: 1 loss: 23.724830627441406\n",
            "epoch: 2 loss: 16.72997283935547\n",
            "epoch: 3 loss: 12.692630767822266\n",
            "epoch: 4 loss: 10.362064361572266\n",
            "epoch: 5 loss: 9.01647663116455\n",
            "epoch: 6 loss: 8.239317893981934\n",
            "epoch: 7 loss: 7.790201187133789\n",
            "epoch: 8 loss: 7.530399322509766\n",
            "epoch: 9 loss: 7.379851818084717\n",
            "epoch: 10 loss: 7.292356967926025\n",
            "epoch: 11 loss: 7.2412519454956055\n",
            "epoch: 12 loss: 7.211149215698242\n",
            "epoch: 13 loss: 7.193170547485352\n",
            "epoch: 14 loss: 7.182191371917725\n",
            "epoch: 15 loss: 7.1752519607543945\n",
            "epoch: 16 loss: 7.170647621154785\n",
            "epoch: 17 loss: 7.167393684387207\n",
            "epoch: 18 loss: 7.164918899536133\n",
            "epoch: 19 loss: 7.162900447845459\n",
            "epoch: 20 loss: 7.161144256591797\n",
            "epoch: 21 loss: 7.159542083740234\n",
            "epoch: 22 loss: 7.1580328941345215\n",
            "epoch: 23 loss: 7.1565775871276855\n",
            "epoch: 24 loss: 7.155158042907715\n",
            "epoch: 25 loss: 7.153759956359863\n",
            "epoch: 26 loss: 7.1523756980896\n",
            "epoch: 27 loss: 7.151003837585449\n",
            "epoch: 28 loss: 7.149640083312988\n",
            "epoch: 29 loss: 7.1482834815979\n",
            "epoch: 30 loss: 7.146933555603027\n",
            "epoch: 31 loss: 7.145589828491211\n",
            "epoch: 32 loss: 7.144252300262451\n",
            "epoch: 33 loss: 7.142919540405273\n",
            "epoch: 34 loss: 7.141592502593994\n",
            "epoch: 35 loss: 7.140270233154297\n",
            "epoch: 36 loss: 7.138952732086182\n",
            "epoch: 37 loss: 7.137641429901123\n",
            "epoch: 38 loss: 7.136335372924805\n",
            "epoch: 39 loss: 7.135035514831543\n",
            "epoch: 40 loss: 7.133737564086914\n",
            "epoch: 41 loss: 7.132449150085449\n",
            "epoch: 42 loss: 7.131163120269775\n",
            "epoch: 43 loss: 7.129882335662842\n",
            "epoch: 44 loss: 7.128607273101807\n",
            "epoch: 45 loss: 7.127337455749512\n",
            "epoch: 46 loss: 7.126072406768799\n",
            "epoch: 47 loss: 7.124812602996826\n",
            "epoch: 48 loss: 7.1235575675964355\n",
            "epoch: 49 loss: 7.122307300567627\n",
            "epoch: 50 loss: 7.121062755584717\n",
            "epoch: 51 loss: 7.1198225021362305\n",
            "epoch: 52 loss: 7.118587493896484\n",
            "epoch: 53 loss: 7.1173577308654785\n",
            "epoch: 54 loss: 7.116130828857422\n",
            "epoch: 55 loss: 7.114912033081055\n",
            "epoch: 56 loss: 7.113696098327637\n",
            "epoch: 57 loss: 7.112485408782959\n",
            "epoch: 58 loss: 7.111279487609863\n",
            "epoch: 59 loss: 7.110079288482666\n",
            "epoch: 60 loss: 7.108882904052734\n",
            "epoch: 61 loss: 7.107690811157227\n",
            "epoch: 62 loss: 7.106504440307617\n",
            "epoch: 63 loss: 7.105323314666748\n",
            "epoch: 64 loss: 7.104145526885986\n",
            "epoch: 65 loss: 7.102972984313965\n",
            "epoch: 66 loss: 7.101805210113525\n",
            "epoch: 67 loss: 7.100641250610352\n",
            "epoch: 68 loss: 7.099483489990234\n",
            "epoch: 69 loss: 7.098330020904541\n",
            "epoch: 70 loss: 7.097179412841797\n",
            "epoch: 71 loss: 7.096035003662109\n",
            "epoch: 72 loss: 7.094894886016846\n",
            "epoch: 73 loss: 7.093759059906006\n",
            "epoch: 74 loss: 7.09262752532959\n",
            "epoch: 75 loss: 7.091500759124756\n",
            "epoch: 76 loss: 7.09037971496582\n",
            "epoch: 77 loss: 7.089261531829834\n",
            "epoch: 78 loss: 7.08814811706543\n",
            "epoch: 79 loss: 7.087038993835449\n",
            "epoch: 80 loss: 7.085935115814209\n",
            "epoch: 81 loss: 7.084836006164551\n",
            "epoch: 82 loss: 7.083739757537842\n",
            "epoch: 83 loss: 7.082648277282715\n",
            "epoch: 84 loss: 7.081562519073486\n",
            "epoch: 85 loss: 7.080480575561523\n",
            "epoch: 86 loss: 7.079400539398193\n",
            "epoch: 87 loss: 7.078327655792236\n",
            "epoch: 88 loss: 7.077258110046387\n",
            "epoch: 89 loss: 7.076192855834961\n",
            "epoch: 90 loss: 7.075131416320801\n",
            "epoch: 91 loss: 7.074074745178223\n",
            "epoch: 92 loss: 7.073022365570068\n",
            "epoch: 93 loss: 7.07197380065918\n",
            "epoch: 94 loss: 7.070930004119873\n",
            "epoch: 95 loss: 7.069889545440674\n",
            "epoch: 96 loss: 7.068853855133057\n",
            "epoch: 97 loss: 7.067821502685547\n",
            "epoch: 98 loss: 7.066793918609619\n",
            "epoch: 99 loss: 7.065769672393799\n"
          ],
          "name": "stdout"
        }
      ]
    },
    {
      "cell_type": "code",
      "metadata": {
        "id": "UF7zin-JwINN",
        "colab": {
          "base_uri": "https://localhost:8080/",
          "height": 296
        },
        "outputId": "47efb1e2-ab1b-46a1-932d-2903b5990b44"
      },
      "source": [
        "plt.plot(range(epochs), losses)\n",
        "plt.ylabel('Loss')\n",
        "plt.xlabel('epoch')"
      ],
      "execution_count": 12,
      "outputs": [
        {
          "output_type": "execute_result",
          "data": {
            "text/plain": [
              "Text(0.5, 0, 'epoch')"
            ]
          },
          "metadata": {
            "tags": []
          },
          "execution_count": 12
        },
        {
          "output_type": "display_data",
          "data": {
            "image/png": "[encoded data removed]",
            "text/plain": [
              "<Figure size 432x288 with 1 Axes>"
            ]
          },
          "metadata": {
            "tags": [],
            "needs_background": "light"
          }
        }
      ]
    },
    {
      "cell_type": "code",
      "metadata": {
        "id": "z_gzHrVzwK7r",
        "colab": {
          "base_uri": "https://localhost:8080/",
          "height": 265
        },
        "outputId": "8e4c0f63-8d5c-4b0a-8aa9-a46c886e17fc"
      },
      "source": [
        "plot_fit(\"Trained Model\")\n"
      ],
      "execution_count": 13,
      "outputs": [
        {
          "output_type": "display_data",
          "data": {
            "image/png": "[encoded data removed]",
            "text/plain": [
              "<Figure size 432x288 with 1 Axes>"
            ]
          },
          "metadata": {
            "tags": [],
            "needs_background": "light"
          }
        }
      ]
    }
  ]
}